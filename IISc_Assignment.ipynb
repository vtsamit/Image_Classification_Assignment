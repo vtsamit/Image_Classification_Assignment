{
  "cells": [
    {
      "cell_type": "markdown",
      "metadata": {
        "id": "e78zsqSpunwK"
      },
      "source": [
        "# **NECESSARY IMPORTS**"
      ]
    },
    {
      "cell_type": "code",
      "execution_count": 1,
      "metadata": {
        "id": "Qx1YAlw6nhRP"
      },
      "outputs": [],
      "source": [
        "import pickle\n",
        "import numpy as np"
      ]
    },
    {
      "cell_type": "code",
      "execution_count": 2,
      "metadata": {
        "colab": {
          "base_uri": "https://localhost:8080/"
        },
        "id": "a-SQrAO0wtXV",
        "outputId": "8ef25ad3-dcec-4f1a-909e-e0f417387be8"
      },
      "outputs": [
        {
          "output_type": "stream",
          "name": "stdout",
          "text": [
            "Collecting torchinfo\n",
            "  Downloading torchinfo-1.8.0-py3-none-any.whl (23 kB)\n",
            "Installing collected packages: torchinfo\n",
            "Successfully installed torchinfo-1.8.0\n"
          ]
        }
      ],
      "source": [
        "!pip install torchinfo"
      ]
    },
    {
      "cell_type": "code",
      "execution_count": 3,
      "metadata": {
        "colab": {
          "base_uri": "https://localhost:8080/"
        },
        "id": "-PNcRJRDnhRS",
        "outputId": "3a58150a-048f-4b37-903f-01b1e211d83a"
      },
      "outputs": [
        {
          "output_type": "stream",
          "name": "stdout",
          "text": [
            "PyTorch version: 2.2.1+cu121\n",
            "torchvision version: 0.17.1+cu121\n"
          ]
        }
      ],
      "source": [
        "# Import PyTorch\n",
        "import torch\n",
        "from torch import nn\n",
        "\n",
        "# Import torchvision\n",
        "import torchvision\n",
        "from torchvision import datasets\n",
        "from torchvision.transforms import ToTensor\n",
        "from torchinfo import summary\n",
        "from torch.utils.data.dataloader import DataLoader\n",
        "\n",
        "# Import matplotlib for visualization\n",
        "import matplotlib.pyplot as plt\n",
        "from tqdm.auto import tqdm\n",
        "\n",
        "# Check versions\n",
        "print(f\"PyTorch version: {torch.__version__}\\ntorchvision version: {torchvision.__version__}\")"
      ]
    },
    {
      "cell_type": "markdown",
      "metadata": {
        "id": "H79JtkvtutbB"
      },
      "source": [
        "# **DEVICE AGNOSTICS**"
      ]
    },
    {
      "cell_type": "code",
      "execution_count": 4,
      "metadata": {
        "colab": {
          "base_uri": "https://localhost:8080/",
          "height": 35
        },
        "id": "gG9tXcZPnhRX",
        "outputId": "8dd61a6b-e0a0-41bb-fd76-200874a5b137"
      },
      "outputs": [
        {
          "output_type": "execute_result",
          "data": {
            "text/plain": [
              "'cuda'"
            ],
            "application/vnd.google.colaboratory.intrinsic+json": {
              "type": "string"
            }
          },
          "metadata": {},
          "execution_count": 4
        }
      ],
      "source": [
        "import torch\n",
        "device = \"cuda\" if torch.cuda.is_available() else \"cpu\"\n",
        "device"
      ]
    },
    {
      "cell_type": "markdown",
      "metadata": {
        "id": "2UwB0AxkuMV9"
      },
      "source": [
        "# **UNPACK DATASET IN REQUIRED FORMAT**"
      ]
    },
    {
      "cell_type": "code",
      "execution_count": 5,
      "metadata": {
        "id": "EA5lhqkOnhRQ"
      },
      "outputs": [],
      "source": [
        "def unpickle(file):\n",
        "  with open(file, 'rb') as fo:\n",
        "        dict = pickle.load(fo, encoding='bytes')\n",
        "  return dict"
      ]
    },
    {
      "cell_type": "code",
      "execution_count": 6,
      "metadata": {
        "id": "fF4bNvwxpW4a"
      },
      "outputs": [],
      "source": [
        "def unpickle_class(file):\n",
        "  with open(file, 'rb') as fo:\n",
        "        dict = pickle.load(fo, encoding='latin1')\n",
        "  return dict"
      ]
    },
    {
      "cell_type": "code",
      "execution_count": 7,
      "metadata": {
        "id": "DQsGxJMhnhRR"
      },
      "outputs": [],
      "source": [
        "batch1=unpickle(\"/content/data_batch_1\")\n",
        "batch2=unpickle(\"/content/data_batch_2\")\n",
        "batch3=unpickle(\"/content/data_batch_3\")\n",
        "batch4=unpickle(\"/content/data_batch_4\")\n",
        "batch5=unpickle(\"/content/data_batch_5\")\n",
        "test_batch=unpickle(\"/content/test_batch\")"
      ]
    },
    {
      "cell_type": "code",
      "execution_count": 8,
      "metadata": {
        "id": "oL8touIRnhRR"
      },
      "outputs": [],
      "source": [
        "class_name=unpickle_class(\"/content/batches.meta\")\n"
      ]
    },
    {
      "cell_type": "code",
      "execution_count": 9,
      "metadata": {
        "id": "lQyZ30WInhRS"
      },
      "outputs": [],
      "source": [
        "batch1_data=batch1[b'data']\n",
        "batch2_data=batch2[b'data']\n",
        "batch3_data=batch3[b'data']\n",
        "batch4_data=batch4[b'data']\n",
        "batch5_data=batch5[b'data']\n",
        "test_batch_data=test_batch[b'data']\n",
        "batch1_label=batch1[b'labels']\n",
        "batch2_label=batch2[b'labels']\n",
        "batch3_label=batch3[b'labels']\n",
        "batch4_label=batch4[b'labels']\n",
        "batch5_label=batch5[b'labels']\n",
        "test_batch_label=test_batch[b'labels']\n",
        "class_names=class_name['label_names']"
      ]
    },
    {
      "cell_type": "code",
      "execution_count": 10,
      "metadata": {
        "colab": {
          "base_uri": "https://localhost:8080/"
        },
        "id": "4EC8CbFPS0py",
        "outputId": "41a7c5a2-1728-44a2-968b-125336c2b42f"
      },
      "outputs": [
        {
          "output_type": "execute_result",
          "data": {
            "text/plain": [
              "['airplane',\n",
              " 'automobile',\n",
              " 'bird',\n",
              " 'cat',\n",
              " 'deer',\n",
              " 'dog',\n",
              " 'frog',\n",
              " 'horse',\n",
              " 'ship',\n",
              " 'truck']"
            ]
          },
          "metadata": {},
          "execution_count": 10
        }
      ],
      "source": [
        "class_name['label_names']"
      ]
    },
    {
      "cell_type": "markdown",
      "metadata": {
        "id": "YRBFCITtu20I"
      },
      "source": [
        "# **CONCATENATE BATCHES**"
      ]
    },
    {
      "cell_type": "code",
      "execution_count": 11,
      "metadata": {
        "colab": {
          "base_uri": "https://localhost:8080/"
        },
        "id": "z_AYi33LnhRT",
        "outputId": "b1cd00d6-6186-4c52-fb7a-8e0a14f8fe8e"
      },
      "outputs": [
        {
          "output_type": "execute_result",
          "data": {
            "text/plain": [
              "(50000, 3072)"
            ]
          },
          "metadata": {},
          "execution_count": 11
        }
      ],
      "source": [
        "ls2=np.concatenate((batch1_data, batch2_data))\n",
        "ls3=np.concatenate((ls2,batch3_data))\n",
        "ls4=np.concatenate((ls3,batch4_data))\n",
        "final_batch=np.concatenate((ls4,batch5_data))\n",
        "final_batch.shape"
      ]
    },
    {
      "cell_type": "code",
      "execution_count": 12,
      "metadata": {
        "colab": {
          "base_uri": "https://localhost:8080/"
        },
        "id": "Kd7RPsBNnhRU",
        "outputId": "5252d0e6-2442-4741-d4a9-9351fcb829a1"
      },
      "outputs": [
        {
          "output_type": "execute_result",
          "data": {
            "text/plain": [
              "(50000,)"
            ]
          },
          "metadata": {},
          "execution_count": 12
        }
      ],
      "source": [
        "lb2=np.concatenate((batch1_label, batch2_label))\n",
        "lb3=np.concatenate((lb2,batch3_label))\n",
        "lb4=np.concatenate((lb3,batch4_label))\n",
        "final_label=np.concatenate((lb4,batch5_label))\n",
        "final_label.shape"
      ]
    },
    {
      "cell_type": "markdown",
      "metadata": {
        "id": "UgEzCwkLu76H"
      },
      "source": [
        "# **CONVERT DATA INTO TORCH TENSOR**"
      ]
    },
    {
      "cell_type": "code",
      "execution_count": 13,
      "metadata": {
        "id": "u6BYb9YdnhRU"
      },
      "outputs": [],
      "source": [
        "d=torch.Tensor(final_batch)\n",
        "#i=d.type(torch.int64)\n",
        "\n",
        "m=torch.Tensor(test_batch_data)\n",
        "#n=m.type(torch.int64)"
      ]
    },
    {
      "cell_type": "markdown",
      "metadata": {
        "id": "zExuO9v_vHCc"
      },
      "source": [
        "# **DATA RESHAPE AND NORMALISATION**"
      ]
    },
    {
      "cell_type": "code",
      "execution_count": 14,
      "metadata": {
        "id": "OKFYSuqbnhRV"
      },
      "outputs": [],
      "source": [
        "e=torch.reshape(d,(50000,3,32,32))\n",
        "t=torch.reshape(m,(10000,3,32,32))"
      ]
    },
    {
      "cell_type": "code",
      "execution_count": 15,
      "metadata": {
        "id": "w78GSppgnhRV"
      },
      "outputs": [],
      "source": [
        "e = e / 255.0\n",
        "t = t /255.0"
      ]
    },
    {
      "cell_type": "markdown",
      "metadata": {
        "id": "A3kvjyHvvNDu"
      },
      "source": [
        "# **MERGE DATA AND LABELS**"
      ]
    },
    {
      "cell_type": "code",
      "execution_count": 16,
      "metadata": {
        "id": "ezh3oq_8nhRV"
      },
      "outputs": [],
      "source": [
        "def merge(list1, list2):\n",
        "\n",
        "    merged_list = tuple(zip(list1, list2))\n",
        "    return merged_list"
      ]
    },
    {
      "cell_type": "code",
      "execution_count": 17,
      "metadata": {
        "id": "QaSasCfknhRW"
      },
      "outputs": [],
      "source": [
        "train_data=merge(e,final_label)\n",
        "test_data=merge(t,test_batch_label)\n",
        "#test_data"
      ]
    },
    {
      "cell_type": "markdown",
      "metadata": {
        "id": "ds8dZe1lvR73"
      },
      "source": [
        "# **DATA LOADER**"
      ]
    },
    {
      "cell_type": "code",
      "execution_count": 18,
      "metadata": {
        "id": "8IScbBHMnhRW"
      },
      "outputs": [],
      "source": [
        "batch_size=32\n",
        "\n",
        "train = DataLoader(train_data, batch_size, shuffle=True)\n",
        "test = DataLoader(test_data, batch_size, shuffle=False)"
      ]
    },
    {
      "cell_type": "code",
      "execution_count": 19,
      "metadata": {
        "colab": {
          "base_uri": "https://localhost:8080/"
        },
        "id": "WLRQ3LY7nhRW",
        "outputId": "88ccbe65-ce81-4e3e-d2b9-822c20f48154"
      },
      "outputs": [
        {
          "output_type": "execute_result",
          "data": {
            "text/plain": [
              "(torch.Size([32, 3, 32, 32]), torch.Size([32]))"
            ]
          },
          "metadata": {},
          "execution_count": 19
        }
      ],
      "source": [
        "train_features_batch, train_labels_batch = next(iter(train))\n",
        "train_features_batch.shape, train_labels_batch.shape"
      ]
    },
    {
      "cell_type": "code",
      "execution_count": 20,
      "metadata": {
        "colab": {
          "base_uri": "https://localhost:8080/",
          "height": 465
        },
        "id": "fljzXTxJsnum",
        "outputId": "890b4e82-8cff-476f-e50a-246b573f75fc"
      },
      "outputs": [
        {
          "output_type": "stream",
          "name": "stdout",
          "text": [
            "Image shape: torch.Size([50000, 3, 32, 32])\n"
          ]
        },
        {
          "output_type": "execute_result",
          "data": {
            "text/plain": [
              "<matplotlib.image.AxesImage at 0x79b21938c340>"
            ]
          },
          "metadata": {},
          "execution_count": 20
        },
        {
          "output_type": "display_data",
          "data": {
            "text/plain": [
              "<Figure size 640x480 with 1 Axes>"
            ],
            "image/png": "[encoded data removed]"
          },
          "metadata": {}
        }
      ],
      "source": [
        "print(f\"Image shape: {e.shape}\")\n",
        "plt.imshow(e[5].permute(1,2,0))"
      ]
    },
    {
      "cell_type": "markdown",
      "metadata": {
        "id": "ckTJ33qCs7u0"
      },
      "source": [
        "# **VIEW IMAGES**"
      ]
    },
    {
      "cell_type": "code",
      "execution_count": 21,
      "metadata": {
        "colab": {
          "base_uri": "https://localhost:8080/",
          "height": 752
        },
        "id": "3dG0Iqv6s0w9",
        "outputId": "794fda50-c499-4d86-8c43-bdf4b2352efd"
      },
      "outputs": [
        {
          "output_type": "display_data",
          "data": {
            "text/plain": [
              "<Figure size 900x900 with 16 Axes>"
            ],
            "image/png": "[encoded data removed]"
          },
          "metadata": {}
        }
      ],
      "source": [
        "torch.manual_seed(42)\n",
        "fig = plt.figure(figsize=(9, 9))\n",
        "rows, cols = 4, 4\n",
        "for i in range(1, rows * cols + 1):\n",
        "    random_idx = torch.randint(0, len(train_data), size=[1]).item()\n",
        "    img = e[random_idx]\n",
        "    label= final_label[random_idx]\n",
        "    fig.add_subplot(rows, cols, i)\n",
        "    plt.imshow(img.permute(1,2,0), cmap=\"gray\")\n",
        "    plt.title(class_names[label])\n",
        "    plt.axis(False);"
      ]
    },
    {
      "cell_type": "markdown",
      "metadata": {
        "id": "ntmYU7bHtei2"
      },
      "source": [
        "# **CNN MODEL**"
      ]
    },
    {
      "cell_type": "code",
      "execution_count": 22,
      "metadata": {
        "colab": {
          "base_uri": "https://localhost:8080/"
        },
        "id": "O8DWEnrAnhRX",
        "outputId": "336b1d14-19e8-4e2a-c0e4-5aaad5e03bcd"
      },
      "outputs": [
        {
          "output_type": "execute_result",
          "data": {
            "text/plain": [
              "Classifier(\n",
              "  (network): Sequential(\n",
              "    (0): Conv2d(3, 32, kernel_size=(3, 3), stride=(1, 1), padding=same)\n",
              "    (1): ReLU()\n",
              "    (2): BatchNorm2d(32, eps=1e-05, momentum=0.1, affine=True, track_running_stats=True)\n",
              "    (3): Conv2d(32, 32, kernel_size=(3, 3), stride=(1, 1), padding=same)\n",
              "    (4): ReLU()\n",
              "    (5): BatchNorm2d(32, eps=1e-05, momentum=0.1, affine=True, track_running_stats=True)\n",
              "    (6): MaxPool2d(kernel_size=2, stride=2, padding=0, dilation=1, ceil_mode=False)\n",
              "    (7): Dropout(p=0.4, inplace=False)\n",
              "    (8): Conv2d(32, 64, kernel_size=(3, 3), stride=(1, 1), padding=same)\n",
              "    (9): ReLU()\n",
              "    (10): BatchNorm2d(64, eps=1e-05, momentum=0.1, affine=True, track_running_stats=True)\n",
              "    (11): Conv2d(64, 64, kernel_size=(3, 3), stride=(1, 1), padding=same)\n",
              "    (12): ReLU()\n",
              "    (13): BatchNorm2d(64, eps=1e-05, momentum=0.1, affine=True, track_running_stats=True)\n",
              "    (14): MaxPool2d(kernel_size=2, stride=2, padding=0, dilation=1, ceil_mode=False)\n",
              "    (15): Dropout(p=0.4, inplace=False)\n",
              "    (16): Conv2d(64, 128, kernel_size=(3, 3), stride=(1, 1), padding=same)\n",
              "    (17): ReLU()\n",
              "    (18): BatchNorm2d(128, eps=1e-05, momentum=0.1, affine=True, track_running_stats=True)\n",
              "    (19): Conv2d(128, 128, kernel_size=(3, 3), stride=(1, 1), padding=same)\n",
              "    (20): ReLU()\n",
              "    (21): BatchNorm2d(128, eps=1e-05, momentum=0.1, affine=True, track_running_stats=True)\n",
              "    (22): MaxPool2d(kernel_size=2, stride=2, padding=0, dilation=1, ceil_mode=False)\n",
              "    (23): Dropout(p=0.4, inplace=False)\n",
              "    (24): Flatten(start_dim=1, end_dim=-1)\n",
              "    (25): Linear(in_features=2048, out_features=1024, bias=True)\n",
              "    (26): Linear(in_features=1024, out_features=512, bias=True)\n",
              "    (27): Linear(in_features=512, out_features=128, bias=True)\n",
              "    (28): Linear(in_features=128, out_features=10, bias=True)\n",
              "  )\n",
              ")"
            ]
          },
          "metadata": {},
          "execution_count": 22
        }
      ],
      "source": [
        "\n",
        "class Classifier(nn.Module):\n",
        "\n",
        "    def __init__(self):\n",
        "        super().__init__()\n",
        "        self.network = nn.Sequential(\n",
        "\n",
        "            nn.Conv2d(in_channels=3, out_channels=32, kernel_size=3, padding=\"same\"),\n",
        "            nn.ReLU(),\n",
        "            nn.BatchNorm2d(32),\n",
        "            nn.Conv2d(in_channels=32, out_channels=32, kernel_size=3, padding=\"same\"),\n",
        "            nn.ReLU(),\n",
        "            nn.BatchNorm2d(32),\n",
        "\n",
        "            nn.MaxPool2d(2, 2),\n",
        "            nn.Dropout(0.40),\n",
        "\n",
        "            nn.Conv2d(in_channels=32, out_channels=64, kernel_size=3, padding=\"same\"),\n",
        "            nn.ReLU(),\n",
        "            nn.BatchNorm2d(64),\n",
        "            nn.Conv2d(in_channels=64, out_channels=64, kernel_size=3, padding=\"same\"),\n",
        "            nn.ReLU(),\n",
        "            nn.BatchNorm2d(64),\n",
        "            nn.MaxPool2d(2, 2),\n",
        "            nn.Dropout(0.40),\n",
        "\n",
        "            nn.Conv2d(in_channels=64, out_channels=128, kernel_size=3, padding=\"same\"),\n",
        "            nn.ReLU(),\n",
        "            nn.BatchNorm2d(128),\n",
        "            nn.Conv2d(in_channels=128, out_channels=128, kernel_size=3, padding=\"same\"),\n",
        "            nn.ReLU(),\n",
        "            nn.BatchNorm2d(128),\n",
        "            nn.MaxPool2d(2, 2),\n",
        "            nn.Dropout(0.40),\n",
        "\n",
        "            nn.Flatten(),\n",
        "            nn.Linear(128 * 4 * 4, 1024),\n",
        "            nn.Linear(1024, 512),\n",
        "            nn.Linear(512, 128),\n",
        "            nn.Linear(128, 10)\n",
        "\n",
        "        )\n",
        "    def forward(self, x):\n",
        "        return self.network(x)\n",
        "\n",
        "torch.manual_seed(42)\n",
        "model = Classifier().to(device)\n",
        "model"
      ]
    },
    {
      "cell_type": "code",
      "execution_count": 23,
      "metadata": {
        "colab": {
          "base_uri": "https://localhost:8080/"
        },
        "id": "XlFXe_lAnhRY",
        "outputId": "1f18c011-8a87-4686-88cd-acb4f4f4addc"
      },
      "outputs": [
        {
          "output_type": "execute_result",
          "data": {
            "text/plain": [
              "=================================================================\n",
              "Layer (type:depth-idx)                   Param #\n",
              "=================================================================\n",
              "Classifier                               --\n",
              "├─Sequential: 1-1                        --\n",
              "│    └─Conv2d: 2-1                       896\n",
              "│    └─ReLU: 2-2                         --\n",
              "│    └─BatchNorm2d: 2-3                  64\n",
              "│    └─Conv2d: 2-4                       9,248\n",
              "│    └─ReLU: 2-5                         --\n",
              "│    └─BatchNorm2d: 2-6                  64\n",
              "│    └─MaxPool2d: 2-7                    --\n",
              "│    └─Dropout: 2-8                      --\n",
              "│    └─Conv2d: 2-9                       18,496\n",
              "│    └─ReLU: 2-10                        --\n",
              "│    └─BatchNorm2d: 2-11                 128\n",
              "│    └─Conv2d: 2-12                      36,928\n",
              "│    └─ReLU: 2-13                        --\n",
              "│    └─BatchNorm2d: 2-14                 128\n",
              "│    └─MaxPool2d: 2-15                   --\n",
              "│    └─Dropout: 2-16                     --\n",
              "│    └─Conv2d: 2-17                      73,856\n",
              "│    └─ReLU: 2-18                        --\n",
              "│    └─BatchNorm2d: 2-19                 256\n",
              "│    └─Conv2d: 2-20                      147,584\n",
              "│    └─ReLU: 2-21                        --\n",
              "│    └─BatchNorm2d: 2-22                 256\n",
              "│    └─MaxPool2d: 2-23                   --\n",
              "│    └─Dropout: 2-24                     --\n",
              "│    └─Flatten: 2-25                     --\n",
              "│    └─Linear: 2-26                      2,098,176\n",
              "│    └─Linear: 2-27                      524,800\n",
              "│    └─Linear: 2-28                      65,664\n",
              "│    └─Linear: 2-29                      1,290\n",
              "=================================================================\n",
              "Total params: 2,977,834\n",
              "Trainable params: 2,977,834\n",
              "Non-trainable params: 0\n",
              "================================================================="
            ]
          },
          "metadata": {},
          "execution_count": 23
        }
      ],
      "source": [
        "summary(Classifier())"
      ]
    },
    {
      "cell_type": "markdown",
      "metadata": {
        "id": "mWntJ2YPtweo"
      },
      "source": [
        "# **LOSS FUNCTION AND OPTIMISER**"
      ]
    },
    {
      "cell_type": "code",
      "execution_count": 24,
      "metadata": {
        "id": "sEs0gSjwnhRY"
      },
      "outputs": [],
      "source": [
        "# Setup loss and optimizer\n",
        "loss_fn = nn.CrossEntropyLoss()\n",
        "optimizer = torch.optim.SGD(params=model.parameters(),\n",
        "                             lr=0.001)"
      ]
    },
    {
      "cell_type": "markdown",
      "metadata": {
        "id": "dq4suzOit6d_"
      },
      "source": [
        "# **TRAINING AND EVALUATION**"
      ]
    },
    {
      "cell_type": "code",
      "execution_count": 25,
      "metadata": {
        "id": "ayh3WGfynhRY"
      },
      "outputs": [],
      "source": [
        "def train_step(model: torch.nn.Module,\n",
        "               data_loader: torch.utils.data.DataLoader,\n",
        "               loss_fn: torch.nn.Module,\n",
        "               optimizer: torch.optim.Optimizer,\n",
        "               accuracy_fn,\n",
        "               device: torch.device = device):\n",
        "    train_loss, train_acc = 0, 0\n",
        "    model.to(device)\n",
        "    for batch, (X, y) in enumerate(data_loader):\n",
        "\n",
        "        # Send data to GPU\n",
        "        X, y = X.to(device), y.to(device)\n",
        "\n",
        "        # 1. Forward pass\n",
        "        y_pred = model(X)\n",
        "\n",
        "        # 2. Calculate loss\n",
        "        loss = loss_fn(y_pred, y)\n",
        "        train_loss += loss\n",
        "        train_acc += accuracy_fn(y_true=y,\n",
        "                                 y_pred=y_pred.argmax(dim=1))\n",
        "\n",
        "        # 3. Optimizer zero grad\n",
        "        optimizer.zero_grad()\n",
        "\n",
        "        # 4. Loss backward\n",
        "        loss.backward()\n",
        "\n",
        "        # 5. Optimizer step\n",
        "        optimizer.step()\n",
        "\n",
        "    # Calculate loss and accuracy per epoch\n",
        "    train_loss /= len(data_loader)\n",
        "    train_acc /= len(data_loader)\n",
        "    print(f\"Train loss: {train_loss:.5f} | Train accuracy: {train_acc:.2f}%\")\n",
        "\n",
        "def test_step(data_loader: torch.utils.data.DataLoader,\n",
        "              model: torch.nn.Module,\n",
        "              loss_fn: torch.nn.Module,\n",
        "              accuracy_fn,\n",
        "              device: torch.device = device):\n",
        "    test_loss, test_acc = 0, 0\n",
        "    model.to(device)\n",
        "    model.eval()\n",
        "    with torch.inference_mode():\n",
        "        for X, y in data_loader:\n",
        "\n",
        "            # Send data to GPU\n",
        "            X, y = X.to(device), y.to(device)\n",
        "\n",
        "            # 1. Forward pass\n",
        "            test_pred = model(X)\n",
        "\n",
        "            # 2. Calculate loss and accuracy\n",
        "            test_loss += loss_fn(test_pred, y)\n",
        "            test_acc += accuracy_fn(y_true=y,\n",
        "                y_pred=test_pred.argmax(dim=1)\n",
        "            )\n",
        "\n",
        "\n",
        "        test_loss /= len(data_loader)\n",
        "        test_acc /= len(data_loader)\n",
        "        print(f\"Test loss: {test_loss:.5f} | Test accuracy: {test_acc:.2f}%\\n\")"
      ]
    },
    {
      "cell_type": "code",
      "execution_count": 26,
      "metadata": {
        "id": "ChYT0uBknhRZ"
      },
      "outputs": [],
      "source": [
        "def accuracy_fn(y_true, y_pred):\n",
        "    correct = torch.eq(y_true, y_pred).sum().item()\n",
        "    acc = (correct / len(y_pred)) * 100\n",
        "    return acc"
      ]
    },
    {
      "cell_type": "code",
      "execution_count": 27,
      "metadata": {
        "colab": {
          "base_uri": "https://localhost:8080/",
          "height": 1000,
          "referenced_widgets": [
            "182b67f50f1b4364a898b5f58ed009c0",
            "33f5467410364822983664bdcec97722",
            "7c01d4ea0232488b8abc5b66d30cfdb5",
            "62572bac240349159bf0b0cd377915b2",
            "d43b4da395a34d8784a6d0c5788251e0",
            "9c25632da80d477584dfdeffaa640286",
            "a4f35cf140604faeaf6338a867284116",
            "b350fcecefc7478695bf3f93743268ef",
            "1473fb59b1944e7fa5c573699f76cd87",
            "94e3cff4bbeb4f7aa2a1f7b50425b6f9",
            "566085a99db149a7b198d7387559c54c"
          ]
        },
        "id": "lwVO7xlrnhRZ",
        "outputId": "17a5bfa4-955a-4c4b-f6cb-3cf502a6e967"
      },
      "outputs": [
        {
          "output_type": "display_data",
          "data": {
            "text/plain": [
              "  0%|          | 0/20 [00:00<?, ?it/s]"
            ],
            "application/vnd.jupyter.widget-view+json": {
              "version_major": 2,
              "version_minor": 0,
              "model_id": "182b67f50f1b4364a898b5f58ed009c0"
            }
          },
          "metadata": {}
        },
        {
          "output_type": "stream",
          "name": "stdout",
          "text": [
            "Epoch: 0\n",
            "---------\n",
            "Train loss: 1.91505 | Train accuracy: 29.90%\n",
            "Test loss: 1.86619 | Test accuracy: 30.70%\n",
            "\n",
            "Epoch: 1\n",
            "---------\n",
            "Train loss: 1.47884 | Train accuracy: 45.97%\n",
            "Test loss: 1.40770 | Test accuracy: 49.35%\n",
            "\n",
            "Epoch: 2\n",
            "---------\n",
            "Train loss: 1.23864 | Train accuracy: 55.62%\n",
            "Test loss: 1.14331 | Test accuracy: 58.84%\n",
            "\n",
            "Epoch: 3\n",
            "---------\n",
            "Train loss: 1.07609 | Train accuracy: 61.70%\n",
            "Test loss: 1.08276 | Test accuracy: 61.53%\n",
            "\n",
            "Epoch: 4\n",
            "---------\n",
            "Train loss: 0.95723 | Train accuracy: 66.19%\n",
            "Test loss: 0.96926 | Test accuracy: 65.75%\n",
            "\n",
            "Epoch: 5\n",
            "---------\n",
            "Train loss: 0.86236 | Train accuracy: 69.78%\n",
            "Test loss: 0.93390 | Test accuracy: 67.48%\n",
            "\n",
            "Epoch: 6\n",
            "---------\n",
            "Train loss: 0.78254 | Train accuracy: 72.70%\n",
            "Test loss: 0.88757 | Test accuracy: 68.38%\n",
            "\n",
            "Epoch: 7\n",
            "---------\n",
            "Train loss: 0.71663 | Train accuracy: 74.95%\n",
            "Test loss: 0.79935 | Test accuracy: 71.68%\n",
            "\n",
            "Epoch: 8\n",
            "---------\n",
            "Train loss: 0.65632 | Train accuracy: 77.05%\n",
            "Test loss: 0.82382 | Test accuracy: 70.90%\n",
            "\n",
            "Epoch: 9\n",
            "---------\n",
            "Train loss: 0.60022 | Train accuracy: 79.20%\n",
            "Test loss: 0.81221 | Test accuracy: 71.74%\n",
            "\n",
            "Epoch: 10\n",
            "---------\n",
            "Train loss: 0.54833 | Train accuracy: 81.01%\n",
            "Test loss: 0.78565 | Test accuracy: 73.25%\n",
            "\n",
            "Epoch: 11\n",
            "---------\n",
            "Train loss: 0.49897 | Train accuracy: 82.87%\n",
            "Test loss: 0.79958 | Test accuracy: 72.92%\n",
            "\n",
            "Epoch: 12\n",
            "---------\n",
            "Train loss: 0.45064 | Train accuracy: 84.38%\n",
            "Test loss: 0.78139 | Test accuracy: 73.90%\n",
            "\n",
            "Epoch: 13\n",
            "---------\n",
            "Train loss: 0.40376 | Train accuracy: 86.12%\n",
            "Test loss: 0.88705 | Test accuracy: 72.08%\n",
            "\n",
            "Epoch: 14\n",
            "---------\n",
            "Train loss: 0.35905 | Train accuracy: 87.53%\n",
            "Test loss: 0.83157 | Test accuracy: 73.49%\n",
            "\n",
            "Epoch: 15\n",
            "---------\n",
            "Train loss: 0.31200 | Train accuracy: 89.27%\n",
            "Test loss: 0.85204 | Test accuracy: 73.83%\n",
            "\n",
            "Epoch: 16\n",
            "---------\n",
            "Train loss: 0.27344 | Train accuracy: 90.51%\n",
            "Test loss: 0.87022 | Test accuracy: 73.96%\n",
            "\n",
            "Epoch: 17\n",
            "---------\n",
            "Train loss: 0.23257 | Train accuracy: 91.93%\n",
            "Test loss: 0.95025 | Test accuracy: 73.79%\n",
            "\n",
            "Epoch: 18\n",
            "---------\n",
            "Train loss: 0.19176 | Train accuracy: 93.44%\n",
            "Test loss: 1.05964 | Test accuracy: 72.21%\n",
            "\n",
            "Epoch: 19\n",
            "---------\n",
            "Train loss: 0.15672 | Train accuracy: 94.77%\n",
            "Test loss: 1.05240 | Test accuracy: 73.68%\n",
            "\n"
          ]
        }
      ],
      "source": [
        "torch.manual_seed(42)\n",
        "\n",
        "\n",
        "# Train and test model\n",
        "epochs = 20\n",
        "for epoch in tqdm(range(epochs)):\n",
        "    print(f\"Epoch: {epoch}\\n---------\")\n",
        "    train_step(data_loader=train,\n",
        "        model=model,\n",
        "        loss_fn=loss_fn,\n",
        "        optimizer=optimizer,\n",
        "        accuracy_fn=accuracy_fn,\n",
        "        device=device\n",
        "    )\n",
        "    test_step(data_loader=test,\n",
        "        model=model,\n",
        "        loss_fn=loss_fn,\n",
        "        accuracy_fn=accuracy_fn,\n",
        "        device=device\n",
        "    )\n",
        "\n"
      ]
    },
    {
      "cell_type": "code",
      "execution_count": 268,
      "metadata": {
        "id": "ck9p6O7yAZCa"
      },
      "outputs": [],
      "source": [
        "model_scripted = torch.jit.script(model)\n",
        "model_scripted.save('model_scripted.pt')"
      ]
    },
    {
      "cell_type": "markdown",
      "metadata": {
        "id": "8YxHGACtvbo1"
      },
      "source": [
        "# **WEB APPLICATION**"
      ]
    },
    {
      "cell_type": "code",
      "execution_count": 269,
      "metadata": {
        "colab": {
          "base_uri": "https://localhost:8080/"
        },
        "id": "lWi7U6zznhRa",
        "outputId": "311e93e0-eef3-410d-a276-63f864b16abc"
      },
      "outputs": [
        {
          "output_type": "stream",
          "name": "stdout",
          "text": [
            "Overwriting app.py\n"
          ]
        }
      ],
      "source": [
        "%%writefile app.py\n",
        "import streamlit as st\n",
        "import torch\n",
        "import cv2\n",
        "import torchvision.transforms as transforms\n",
        "\n",
        "\n",
        "\n",
        "@st.cache(allow_output_mutation=True)\n",
        "def load_model():\n",
        "  model = torch.jit.load('model_scripted.pt')\n",
        "\n",
        "  return model\n",
        "with st.spinner('Model is being loaded..'):\n",
        "  model=load_model()\n",
        "\n",
        "st.write(\"\"\"\n",
        "         # IMAGE CLASSIFICATION\n",
        "         \"\"\"\n",
        "         )\n",
        "\n",
        "file = st.file_uploader(\"Upload the Image\", type=[\"jpg\", \"png\"])\n",
        "import cv2\n",
        "from PIL import Image, ImageOps\n",
        "import numpy as np\n",
        "st.set_option('deprecation.showfileUploaderEncoding', False)\n",
        "def import_and_predict(image_data, model):\n",
        "\n",
        "        size = (32,32)\n",
        "        image = ImageOps.fit(image_data, size, Image.ANTIALIAS)\n",
        "        img=np.asarray(image)\n",
        "        image = cv2.cvtColor(img, cv2.COLOR_BGR2RGB)\n",
        "        transform = transforms.Compose([transforms.ToTensor()])\n",
        "        tensor = transform(image)\n",
        "        p=tensor.unsqueeze(0)\n",
        "        a=p.to('cuda')\n",
        "        prediction = model(a)\n",
        "        q=torch.argmax(prediction)\n",
        "        class_names1=['airplane', 'automobile','bird','cat', 'deer', 'dog', 'frog','horse','ship','truck']\n",
        "        ans=class_names1[q]\n",
        "        return ans\n",
        "\n",
        "if file is None:\n",
        "    st.text(\"Please upload an image file\")\n",
        "else:\n",
        "    image = Image.open(file)\n",
        "    st.image(image, use_column_width=True)\n",
        "    predict = import_and_predict(image, model)\n",
        "    class_names1=['Airplane', 'Automobile','Bird','Cat', 'Deer', 'Dog', 'Frog','Horse','Ship','Truck']\n",
        "    string=\"Image is \"+ predict\n",
        "    st.success(string)\n"
      ]
    },
    {
      "cell_type": "code",
      "source": [
        "! pip install streamlit -q\n",
        "!wget -q -O - ipv4.icanhazip.com\n",
        "! streamlit run app.py & npx localtunnel --port 8501"
      ],
      "metadata": {
        "id": "BTgArKMW4u5U",
        "outputId": "81142106-1885-449d-fdba-9c5d7081349e",
        "colab": {
          "base_uri": "https://localhost:8080/"
        }
      },
      "execution_count": 261,
      "outputs": [
        {
          "output_type": "stream",
          "name": "stdout",
          "text": [
            "35.197.67.178\n",
            "\n",
            "Collecting usage statistics. To deactivate, set browser.gatherUsageStats to false.\n",
            "\u001b[0m\n",
            "\u001b[0m\n",
            "\u001b[34m\u001b[1m  You can now view your Streamlit app in your browser.\u001b[0m\n",
            "\u001b[0m\n",
            "\u001b[34m  Network URL: \u001b[0m\u001b[1mhttp://172.28.0.12:8501\u001b[0m\n",
            "\u001b[34m  External URL: \u001b[0m\u001b[1mhttp://35.197.67.178:8501\u001b[0m\n",
            "\u001b[0m\n",
            "\u001b[K\u001b[?25hnpx: installed 22 in 2.428s\n",
            "your url is: https://ninety-hats-wait.loca.lt\n",
            "2024-04-28 19:34:11.108 `st.cache` is deprecated. Please use one of Streamlit's new caching commands,\n",
            "`st.cache_data` or `st.cache_resource`.\n",
            "\n",
            "More information [in our docs](https://docs.streamlit.io/library/advanced-features/caching).\n",
            "2024-04-28 19:34:11.110 \n",
            "════════════════════════════════════════════════\n",
            "deprecation.showfileUploaderEncoding IS NO LONGER SUPPORTED.\n",
            "\n",
            "deprecation.showfileUploaderEncoding has been deprecated and will be removed in a future version.\n",
            "\n",
            "Please update <user defined>.\n",
            "════════════════════════════════════════════════\n",
            "\n",
            "2024-04-28 19:34:20.236 `st.cache` is deprecated. Please use one of Streamlit's new caching commands,\n",
            "`st.cache_data` or `st.cache_resource`.\n",
            "\n",
            "More information [in our docs](https://docs.streamlit.io/library/advanced-features/caching).\n",
            "2024-04-28 19:34:20.238 \n",
            "════════════════════════════════════════════════\n",
            "deprecation.showfileUploaderEncoding IS NO LONGER SUPPORTED.\n",
            "\n",
            "deprecation.showfileUploaderEncoding has been deprecated and will be removed in a future version.\n",
            "\n",
            "Please update <user defined>.\n",
            "════════════════════════════════════════════════\n",
            "\n",
            "/content/app.py:29: DeprecationWarning: ANTIALIAS is deprecated and will be removed in Pillow 10 (2023-07-01). Use LANCZOS or Resampling.LANCZOS instead.\n",
            "  image = ImageOps.fit(image_data, size, Image.ANTIALIAS)\n",
            "2024-04-28 19:35:11.734 `st.cache` is deprecated. Please use one of Streamlit's new caching commands,\n",
            "`st.cache_data` or `st.cache_resource`.\n",
            "\n",
            "More information [in our docs](https://docs.streamlit.io/library/advanced-features/caching).\n",
            "2024-04-28 19:35:11.736 \n",
            "════════════════════════════════════════════════\n",
            "deprecation.showfileUploaderEncoding IS NO LONGER SUPPORTED.\n",
            "\n",
            "deprecation.showfileUploaderEncoding has been deprecated and will be removed in a future version.\n",
            "\n",
            "Please update <user defined>.\n",
            "════════════════════════════════════════════════\n",
            "\n",
            "2024-04-28 19:35:12.484 `st.cache` is deprecated. Please use one of Streamlit's new caching commands,\n",
            "`st.cache_data` or `st.cache_resource`.\n",
            "\n",
            "More information [in our docs](https://docs.streamlit.io/library/advanced-features/caching).\n",
            "2024-04-28 19:35:12.485 \n",
            "════════════════════════════════════════════════\n",
            "deprecation.showfileUploaderEncoding IS NO LONGER SUPPORTED.\n",
            "\n",
            "deprecation.showfileUploaderEncoding has been deprecated and will be removed in a future version.\n",
            "\n",
            "Please update <user defined>.\n",
            "════════════════════════════════════════════════\n",
            "\n",
            "/content/app.py:29: DeprecationWarning: ANTIALIAS is deprecated and will be removed in Pillow 10 (2023-07-01). Use LANCZOS or Resampling.LANCZOS instead.\n",
            "  image = ImageOps.fit(image_data, size, Image.ANTIALIAS)\n",
            "2024-04-28 19:35:23.389 `st.cache` is deprecated. Please use one of Streamlit's new caching commands,\n",
            "`st.cache_data` or `st.cache_resource`.\n",
            "\n",
            "More information [in our docs](https://docs.streamlit.io/library/advanced-features/caching).\n",
            "2024-04-28 19:35:23.391 \n",
            "════════════════════════════════════════════════\n",
            "deprecation.showfileUploaderEncoding IS NO LONGER SUPPORTED.\n",
            "\n",
            "deprecation.showfileUploaderEncoding has been deprecated and will be removed in a future version.\n",
            "\n",
            "Please update <user defined>.\n",
            "════════════════════════════════════════════════\n",
            "\n",
            "2024-04-28 19:35:23.930 `st.cache` is deprecated. Please use one of Streamlit's new caching commands,\n",
            "`st.cache_data` or `st.cache_resource`.\n",
            "\n",
            "More information [in our docs](https://docs.streamlit.io/library/advanced-features/caching).\n",
            "2024-04-28 19:35:23.932 \n",
            "════════════════════════════════════════════════\n",
            "deprecation.showfileUploaderEncoding IS NO LONGER SUPPORTED.\n",
            "\n",
            "deprecation.showfileUploaderEncoding has been deprecated and will be removed in a future version.\n",
            "\n",
            "Please update <user defined>.\n",
            "════════════════════════════════════════════════\n",
            "\n",
            "/content/app.py:29: DeprecationWarning: ANTIALIAS is deprecated and will be removed in Pillow 10 (2023-07-01). Use LANCZOS or Resampling.LANCZOS instead.\n",
            "  image = ImageOps.fit(image_data, size, Image.ANTIALIAS)\n",
            "2024-04-28 19:35:59.253 `st.cache` is deprecated. Please use one of Streamlit's new caching commands,\n",
            "`st.cache_data` or `st.cache_resource`.\n",
            "\n",
            "More information [in our docs](https://docs.streamlit.io/library/advanced-features/caching).\n",
            "2024-04-28 19:35:59.255 \n",
            "════════════════════════════════════════════════\n",
            "deprecation.showfileUploaderEncoding IS NO LONGER SUPPORTED.\n",
            "\n",
            "deprecation.showfileUploaderEncoding has been deprecated and will be removed in a future version.\n",
            "\n",
            "Please update <user defined>.\n",
            "════════════════════════════════════════════════\n",
            "\n",
            "2024-04-28 19:36:00.085 `st.cache` is deprecated. Please use one of Streamlit's new caching commands,\n",
            "`st.cache_data` or `st.cache_resource`.\n",
            "\n",
            "More information [in our docs](https://docs.streamlit.io/library/advanced-features/caching).\n",
            "2024-04-28 19:36:00.087 \n",
            "════════════════════════════════════════════════\n",
            "deprecation.showfileUploaderEncoding IS NO LONGER SUPPORTED.\n",
            "\n",
            "deprecation.showfileUploaderEncoding has been deprecated and will be removed in a future version.\n",
            "\n",
            "Please update <user defined>.\n",
            "════════════════════════════════════════════════\n",
            "\n",
            "/content/app.py:29: DeprecationWarning: ANTIALIAS is deprecated and will be removed in Pillow 10 (2023-07-01). Use LANCZOS or Resampling.LANCZOS instead.\n",
            "  image = ImageOps.fit(image_data, size, Image.ANTIALIAS)\n",
            "2024-04-28 19:36:26.124 `st.cache` is deprecated. Please use one of Streamlit's new caching commands,\n",
            "`st.cache_data` or `st.cache_resource`.\n",
            "\n",
            "More information [in our docs](https://docs.streamlit.io/library/advanced-features/caching).\n",
            "2024-04-28 19:36:26.126 \n",
            "════════════════════════════════════════════════\n",
            "deprecation.showfileUploaderEncoding IS NO LONGER SUPPORTED.\n",
            "\n",
            "deprecation.showfileUploaderEncoding has been deprecated and will be removed in a future version.\n",
            "\n",
            "Please update <user defined>.\n",
            "════════════════════════════════════════════════\n",
            "\n",
            "2024-04-28 19:36:26.696 `st.cache` is deprecated. Please use one of Streamlit's new caching commands,\n",
            "`st.cache_data` or `st.cache_resource`.\n",
            "\n",
            "More information [in our docs](https://docs.streamlit.io/library/advanced-features/caching).\n",
            "2024-04-28 19:36:26.698 \n",
            "════════════════════════════════════════════════\n",
            "deprecation.showfileUploaderEncoding IS NO LONGER SUPPORTED.\n",
            "\n",
            "deprecation.showfileUploaderEncoding has been deprecated and will be removed in a future version.\n",
            "\n",
            "Please update <user defined>.\n",
            "════════════════════════════════════════════════\n",
            "\n",
            "/content/app.py:29: DeprecationWarning: ANTIALIAS is deprecated and will be removed in Pillow 10 (2023-07-01). Use LANCZOS or Resampling.LANCZOS instead.\n",
            "  image = ImageOps.fit(image_data, size, Image.ANTIALIAS)\n",
            "2024-04-28 19:37:03.690 `st.cache` is deprecated. Please use one of Streamlit's new caching commands,\n",
            "`st.cache_data` or `st.cache_resource`.\n",
            "\n",
            "More information [in our docs](https://docs.streamlit.io/library/advanced-features/caching).\n",
            "2024-04-28 19:37:03.692 \n",
            "════════════════════════════════════════════════\n",
            "deprecation.showfileUploaderEncoding IS NO LONGER SUPPORTED.\n",
            "\n",
            "deprecation.showfileUploaderEncoding has been deprecated and will be removed in a future version.\n",
            "\n",
            "Please update <user defined>.\n",
            "════════════════════════════════════════════════\n",
            "\n",
            "2024-04-28 19:37:04.285 `st.cache` is deprecated. Please use one of Streamlit's new caching commands,\n",
            "`st.cache_data` or `st.cache_resource`.\n",
            "\n",
            "More information [in our docs](https://docs.streamlit.io/library/advanced-features/caching).\n",
            "2024-04-28 19:37:04.288 \n",
            "════════════════════════════════════════════════\n",
            "deprecation.showfileUploaderEncoding IS NO LONGER SUPPORTED.\n",
            "\n",
            "deprecation.showfileUploaderEncoding has been deprecated and will be removed in a future version.\n",
            "\n",
            "Please update <user defined>.\n",
            "════════════════════════════════════════════════\n",
            "\n",
            "/content/app.py:29: DeprecationWarning: ANTIALIAS is deprecated and will be removed in Pillow 10 (2023-07-01). Use LANCZOS or Resampling.LANCZOS instead.\n",
            "  image = ImageOps.fit(image_data, size, Image.ANTIALIAS)\n",
            "\u001b[34m  Stopping...\u001b[0m\n",
            "^C\n"
          ]
        }
      ]
    }
  ],
  "metadata": {
    "accelerator": "GPU",
    "colab": {
      "gpuType": "T4",
      "provenance": []
    },
    "kaggle": {
      "accelerator": "none",
      "dataSources": [
        {
          "datasetId": 4893794,
          "sourceId": 8248255,
          "sourceType": "datasetVersion"
        }
      ],
      "dockerImageVersionId": 30698,
      "isGpuEnabled": false,
      "isInternetEnabled": false,
      "language": "python",
      "sourceType": "notebook"
    },
    "kernelspec": {
      "display_name": "Python 3",
      "name": "python3"
    },
    "language_info": {
      "codemirror_mode": {
        "name": "ipython",
        "version": 3
      },
      "file_extension": ".py",
      "mimetype": "text/x-python",
      "name": "python",
      "nbconvert_exporter": "python",
      "pygments_lexer": "ipython3",
      "version": "3.10.13"
    },
    "widgets": {
      "application/vnd.jupyter.widget-state+json": {
        "182b67f50f1b4364a898b5f58ed009c0": {
          "model_module": "@jupyter-widgets/controls",
          "model_name": "HBoxModel",
          "model_module_version": "1.5.0",
          "state": {
            "_dom_classes": [],
            "_model_module": "@jupyter-widgets/controls",
            "_model_module_version": "1.5.0",
            "_model_name": "HBoxModel",
            "_view_count": null,
            "_view_module": "@jupyter-widgets/controls",
            "_view_module_version": "1.5.0",
            "_view_name": "HBoxView",
            "box_style": "",
            "children": [
              "IPY_MODEL_33f5467410364822983664bdcec97722",
              "IPY_MODEL_7c01d4ea0232488b8abc5b66d30cfdb5",
              "IPY_MODEL_62572bac240349159bf0b0cd377915b2"
            ],
            "layout": "IPY_MODEL_d43b4da395a34d8784a6d0c5788251e0"
          }
        },
        "33f5467410364822983664bdcec97722": {
          "model_module": "@jupyter-widgets/controls",
          "model_name": "HTMLModel",
          "model_module_version": "1.5.0",
          "state": {
            "_dom_classes": [],
            "_model_module": "@jupyter-widgets/controls",
            "_model_module_version": "1.5.0",
            "_model_name": "HTMLModel",
            "_view_count": null,
            "_view_module": "@jupyter-widgets/controls",
            "_view_module_version": "1.5.0",
            "_view_name": "HTMLView",
            "description": "",
            "description_tooltip": null,
            "layout": "IPY_MODEL_9c25632da80d477584dfdeffaa640286",
            "placeholder": "​",
            "style": "IPY_MODEL_a4f35cf140604faeaf6338a867284116",
            "value": "100%"
          }
        },
        "7c01d4ea0232488b8abc5b66d30cfdb5": {
          "model_module": "@jupyter-widgets/controls",
          "model_name": "FloatProgressModel",
          "model_module_version": "1.5.0",
          "state": {
            "_dom_classes": [],
            "_model_module": "@jupyter-widgets/controls",
            "_model_module_version": "1.5.0",
            "_model_name": "FloatProgressModel",
            "_view_count": null,
            "_view_module": "@jupyter-widgets/controls",
            "_view_module_version": "1.5.0",
            "_view_name": "ProgressView",
            "bar_style": "success",
            "description": "",
            "description_tooltip": null,
            "layout": "IPY_MODEL_b350fcecefc7478695bf3f93743268ef",
            "max": 20,
            "min": 0,
            "orientation": "horizontal",
            "style": "IPY_MODEL_1473fb59b1944e7fa5c573699f76cd87",
            "value": 20
          }
        },
        "62572bac240349159bf0b0cd377915b2": {
          "model_module": "@jupyter-widgets/controls",
          "model_name": "HTMLModel",
          "model_module_version": "1.5.0",
          "state": {
            "_dom_classes": [],
            "_model_module": "@jupyter-widgets/controls",
            "_model_module_version": "1.5.0",
            "_model_name": "HTMLModel",
            "_view_count": null,
            "_view_module": "@jupyter-widgets/controls",
            "_view_module_version": "1.5.0",
            "_view_name": "HTMLView",
            "description": "",
            "description_tooltip": null,
            "layout": "IPY_MODEL_94e3cff4bbeb4f7aa2a1f7b50425b6f9",
            "placeholder": "​",
            "style": "IPY_MODEL_566085a99db149a7b198d7387559c54c",
            "value": " 20/20 [02:47&lt;00:00,  8.30s/it]"
          }
        },
        "d43b4da395a34d8784a6d0c5788251e0": {
          "model_module": "@jupyter-widgets/base",
          "model_name": "LayoutModel",
          "model_module_version": "1.2.0",
          "state": {
            "_model_module": "@jupyter-widgets/base",
            "_model_module_version": "1.2.0",
            "_model_name": "LayoutModel",
            "_view_count": null,
            "_view_module": "@jupyter-widgets/base",
            "_view_module_version": "1.2.0",
            "_view_name": "LayoutView",
            "align_content": null,
            "align_items": null,
            "align_self": null,
            "border": null,
            "bottom": null,
            "display": null,
            "flex": null,
            "flex_flow": null,
            "grid_area": null,
            "grid_auto_columns": null,
            "grid_auto_flow": null,
            "grid_auto_rows": null,
            "grid_column": null,
            "grid_gap": null,
            "grid_row": null,
            "grid_template_areas": null,
            "grid_template_columns": null,
            "grid_template_rows": null,
            "height": null,
            "justify_content": null,
            "justify_items": null,
            "left": null,
            "margin": null,
            "max_height": null,
            "max_width": null,
            "min_height": null,
            "min_width": null,
            "object_fit": null,
            "object_position": null,
            "order": null,
            "overflow": null,
            "overflow_x": null,
            "overflow_y": null,
            "padding": null,
            "right": null,
            "top": null,
            "visibility": null,
            "width": null
          }
        },
        "9c25632da80d477584dfdeffaa640286": {
          "model_module": "@jupyter-widgets/base",
          "model_name": "LayoutModel",
          "model_module_version": "1.2.0",
          "state": {
            "_model_module": "@jupyter-widgets/base",
            "_model_module_version": "1.2.0",
            "_model_name": "LayoutModel",
            "_view_count": null,
            "_view_module": "@jupyter-widgets/base",
            "_view_module_version": "1.2.0",
            "_view_name": "LayoutView",
            "align_content": null,
            "align_items": null,
            "align_self": null,
            "border": null,
            "bottom": null,
            "display": null,
            "flex": null,
            "flex_flow": null,
            "grid_area": null,
            "grid_auto_columns": null,
            "grid_auto_flow": null,
            "grid_auto_rows": null,
            "grid_column": null,
            "grid_gap": null,
            "grid_row": null,
            "grid_template_areas": null,
            "grid_template_columns": null,
            "grid_template_rows": null,
            "height": null,
            "justify_content": null,
            "justify_items": null,
            "left": null,
            "margin": null,
            "max_height": null,
            "max_width": null,
            "min_height": null,
            "min_width": null,
            "object_fit": null,
            "object_position": null,
            "order": null,
            "overflow": null,
            "overflow_x": null,
            "overflow_y": null,
            "padding": null,
            "right": null,
            "top": null,
            "visibility": null,
            "width": null
          }
        },
        "a4f35cf140604faeaf6338a867284116": {
          "model_module": "@jupyter-widgets/controls",
          "model_name": "DescriptionStyleModel",
          "model_module_version": "1.5.0",
          "state": {
            "_model_module": "@jupyter-widgets/controls",
            "_model_module_version": "1.5.0",
            "_model_name": "DescriptionStyleModel",
            "_view_count": null,
            "_view_module": "@jupyter-widgets/base",
            "_view_module_version": "1.2.0",
            "_view_name": "StyleView",
            "description_width": ""
          }
        },
        "b350fcecefc7478695bf3f93743268ef": {
          "model_module": "@jupyter-widgets/base",
          "model_name": "LayoutModel",
          "model_module_version": "1.2.0",
          "state": {
            "_model_module": "@jupyter-widgets/base",
            "_model_module_version": "1.2.0",
            "_model_name": "LayoutModel",
            "_view_count": null,
            "_view_module": "@jupyter-widgets/base",
            "_view_module_version": "1.2.0",
            "_view_name": "LayoutView",
            "align_content": null,
            "align_items": null,
            "align_self": null,
            "border": null,
            "bottom": null,
            "display": null,
            "flex": null,
            "flex_flow": null,
            "grid_area": null,
            "grid_auto_columns": null,
            "grid_auto_flow": null,
            "grid_auto_rows": null,
            "grid_column": null,
            "grid_gap": null,
            "grid_row": null,
            "grid_template_areas": null,
            "grid_template_columns": null,
            "grid_template_rows": null,
            "height": null,
            "justify_content": null,
            "justify_items": null,
            "left": null,
            "margin": null,
            "max_height": null,
            "max_width": null,
            "min_height": null,
            "min_width": null,
            "object_fit": null,
            "object_position": null,
            "order": null,
            "overflow": null,
            "overflow_x": null,
            "overflow_y": null,
            "padding": null,
            "right": null,
            "top": null,
            "visibility": null,
            "width": null
          }
        },
        "1473fb59b1944e7fa5c573699f76cd87": {
          "model_module": "@jupyter-widgets/controls",
          "model_name": "ProgressStyleModel",
          "model_module_version": "1.5.0",
          "state": {
            "_model_module": "@jupyter-widgets/controls",
            "_model_module_version": "1.5.0",
            "_model_name": "ProgressStyleModel",
            "_view_count": null,
            "_view_module": "@jupyter-widgets/base",
            "_view_module_version": "1.2.0",
            "_view_name": "StyleView",
            "bar_color": null,
            "description_width": ""
          }
        },
        "94e3cff4bbeb4f7aa2a1f7b50425b6f9": {
          "model_module": "@jupyter-widgets/base",
          "model_name": "LayoutModel",
          "model_module_version": "1.2.0",
          "state": {
            "_model_module": "@jupyter-widgets/base",
            "_model_module_version": "1.2.0",
            "_model_name": "LayoutModel",
            "_view_count": null,
            "_view_module": "@jupyter-widgets/base",
            "_view_module_version": "1.2.0",
            "_view_name": "LayoutView",
            "align_content": null,
            "align_items": null,
            "align_self": null,
            "border": null,
            "bottom": null,
            "display": null,
            "flex": null,
            "flex_flow": null,
            "grid_area": null,
            "grid_auto_columns": null,
            "grid_auto_flow": null,
            "grid_auto_rows": null,
            "grid_column": null,
            "grid_gap": null,
            "grid_row": null,
            "grid_template_areas": null,
            "grid_template_columns": null,
            "grid_template_rows": null,
            "height": null,
            "justify_content": null,
            "justify_items": null,
            "left": null,
            "margin": null,
            "max_height": null,
            "max_width": null,
            "min_height": null,
            "min_width": null,
            "object_fit": null,
            "object_position": null,
            "order": null,
            "overflow": null,
            "overflow_x": null,
            "overflow_y": null,
            "padding": null,
            "right": null,
            "top": null,
            "visibility": null,
            "width": null
          }
        },
        "566085a99db149a7b198d7387559c54c": {
          "model_module": "@jupyter-widgets/controls",
          "model_name": "DescriptionStyleModel",
          "model_module_version": "1.5.0",
          "state": {
            "_model_module": "@jupyter-widgets/controls",
            "_model_module_version": "1.5.0",
            "_model_name": "DescriptionStyleModel",
            "_view_count": null,
            "_view_module": "@jupyter-widgets/base",
            "_view_module_version": "1.2.0",
            "_view_name": "StyleView",
            "description_width": ""
          }
        }
      }
    }
  },
  "nbformat": 4,
  "nbformat_minor": 0
}